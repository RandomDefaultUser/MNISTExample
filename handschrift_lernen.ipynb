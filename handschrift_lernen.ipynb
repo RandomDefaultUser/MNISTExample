{
 "cells": [
  {
   "cell_type": "code",
   "execution_count": 3,
   "metadata": {
    "pycharm": {
     "name": "#%%\n"
    },
    "tags": []
   },
   "outputs": [],
   "source": [
    "import torch\n",
    "import torch.nn as nn\n",
    "import torchvision\n",
    "import matplotlib.pyplot as plt\n",
    "from utils import draw_single_digit,test_single_image"
   ]
  },
  {
   "cell_type": "markdown",
   "metadata": {
    "pycharm": {
     "name": "#%% md\n"
    }
   },
   "source": [
    "Im Folgenden definieren wir zunächst ein paar Hyperparameter.\n",
    "Weißt du, was welche Hyperparameter bedeuten könnten? Was könnten sinnvolle Größen sein?"
   ]
  },
  {
   "cell_type": "code",
   "execution_count": 5,
   "metadata": {
    "collapsed": false,
    "jupyter": {
     "outputs_hidden": false
    },
    "pycharm": {
     "name": "#%%\n"
    }
   },
   "outputs": [],
   "source": [
    "n_epochs = ...\n",
    "batch_size_train = ...\n",
    "batch_size_test = ...\n",
    "learning_rate = ...\n",
    "log_interval = ...\n"
   ]
  },
  {
   "cell_type": "markdown",
   "metadata": {
    "pycharm": {
     "name": "#%% md\n"
    }
   },
   "source": [
    "Das Rückgrat jedes Machine Learning Modells sind Daten. Wir nutzen für unser Beispiel den sogenannten MNIST Datensatz (siehe: https://de.wikipedia.org/wiki/MNIST-Datenbank). Dieser enthält handschriftlich geschriebene Zahlen und zugehörige Labels. Der Datensatz ist in 50'000 Training und 10'000 Testdaten eingeteilt. Mit \"Daten\" ist jeweils ein Bild einer handschriftlichen Zahl und das dazugehörige Label gemeint.\n",
    "\n",
    "Pytorch bietet freundlicherweise direkt Funktionen zum Herunterladen dieses Datensatzes an. Wenn wir diese Funktionen nutzen liegen die Daten weiterhin direkt in einem für uns nutzbaren Format vor. Dafür müssen wir nur die unten angegebenen Funktionen aufrufen. Aber was bedeuten die einzelnen Parameter?"
   ]
  },
  {
   "cell_type": "code",
   "execution_count": 8,
   "metadata": {
    "collapsed": false,
    "jupyter": {
     "outputs_hidden": false
    },
    "pycharm": {
     "name": "#%%\n"
    }
   },
   "outputs": [],
   "source": [
    "train_loader = torch.utils.data.DataLoader(\n",
    "    torchvision.datasets.MNIST('./files/', train=True, download=True,\n",
    "                               transform=torchvision.transforms.ToTensor()),\n",
    "    batch_size=batch_size_train, shuffle=True)\n",
    "\n",
    "\n",
    "test_loader = torch.utils.data.DataLoader(\n",
    "    torchvision.datasets.MNIST('./files/', train=False, download=True,\n",
    "                               transform=torchvision.transforms.ToTensor()),\n",
    "    batch_size=batch_size_test, shuffle=True)\n"
   ]
  },
  {
   "cell_type": "markdown",
   "metadata": {
    "pycharm": {
     "name": "#%% md\n"
    }
   },
   "source": [
    "Manchmal ist es schön, sich die Zahlen direkt anzeigen lassen zu können.\n",
    "Mit der folgenden Funktion kannst du eine beliebige Zahl aus dem Datensatz direkt anzeigen lassen. Der Index, den du hier angibst bezieht sich immer auf den Test-Teil der Daten, denn den wollen wir nach dem Training ja auch näher mit unserem Netzwerk untersuchen. Spiel ruhig ein bisschen rum und schau dir an, welche Zahlen so dabei sind!"
   ]
  },
  {
   "cell_type": "code",
   "execution_count": 4,
   "metadata": {
    "collapsed": false,
    "jupyter": {
     "outputs_hidden": false
    },
    "pycharm": {
     "name": "#%%\n"
    }
   },
   "outputs": [
    {
     "data": {
      "image/png": "[encoded data removed]",
      "text/plain": [
       "<Figure size 432x288 with 1 Axes>"
      ]
     },
     "metadata": {},
     "output_type": "display_data"
    }
   ],
   "source": [
    "draw_single_digit(7)\n"
   ]
  },
  {
   "cell_type": "markdown",
   "metadata": {
    "pycharm": {
     "name": "#%% md\n"
    }
   },
   "source": [
    "Jetzt wird es langsam Zeit, ein Netzwerk zu kreieren.\n",
    "\n",
    "Wichtige Frage - wie groß ist unser Output? Um diese Frage zu beantworten hilft es, uns ins Gedächtnis zu rufen, dass wir es hier mit einem sogenannten Klassifizierungsproblem zu tun haben. Das bedeutet, dass wir 10 mögliche Antworten haben (0-9) und wissen wollen, in welche dieser Klassen unser Ergebnis fällt. Daher kann der Output des NN ruhig auch größer als nur eine Zahl sein...\n"
   ]
  },
  {
   "cell_type": "code",
   "execution_count": null,
   "metadata": {
    "collapsed": false,
    "jupyter": {
     "outputs_hidden": false
    },
    "pycharm": {
     "name": "#%%\n"
    }
   },
   "outputs": [],
   "source": [
    "class NeuralNet(nn.Module):\n",
    "    def __init__(self):\n",
    "        super(NeuralNet, self).__init__()\n",
    "        # Hier müssen Layer und Aktivierungsfunktionen hin\n",
    "\n",
    "    def forward(self, x):\n",
    "        # Und hier musst du alle Layer und Aktivierungsfunktionen durchgehen\n",
    "        return x\n",
    "network = NeuralNet()"
   ]
  },
  {
   "cell_type": "markdown",
   "metadata": {
    "pycharm": {
     "name": "#%% md\n"
    }
   },
   "source": [
    "Super! Jetzt können wir unseren Trainingsloop schreiben. Einiges davon hast du schon so im Beispiel von Karan genutzt. Einiges ist bereits eingetragen, weil es ein bisschen sehr technisch ist."
   ]
  },
  {
   "cell_type": "code",
   "execution_count": null,
   "metadata": {
    "collapsed": false,
    "jupyter": {
     "outputs_hidden": false
    },
    "pycharm": {
     "name": "#%%\n"
    }
   },
   "outputs": [],
   "source": [
    "# Das ist unsere Loss-Funktion, also die, die wir optimieren wollen. Der Cross-Entropy-Loss ist ein Standard für Klassifizierungsprobleme. Du musst nicht\n",
    "criterion = nn.CrossEntropyLoss()\n",
    "\n",
    "# Was macht der Optimizer nochmal?\n",
    "optimizer = torch.optim.SGD(network.parameters(), lr=learning_rate)\n",
    "for epoch in range(0, n_epochs):\n",
    "\n",
    "    # Das ist eine pytorch Spezialität. Wir müssen dem, Netz mitteilen, dass wir es jetzt gleich trainieren.\n",
    "    network.train()\n",
    "    for batch_idx, (data, target) in enumerate(train_loader):\n",
    "\n",
    "        ...\n",
    "\n",
    "        # Das müssen wir ausführen, bevor wir die Daten ins Netz stecken.\n",
    "        # Ebenfalls so ein pytorch-interna ;)\n",
    "        data = data.reshape(-1, 28*28)\n",
    "\n",
    "        ...\n",
    "\n",
    "        # Das hier ist ein bisschen Output, der uns beim Analysieren des Trainings hilft.\n",
    "        if batch_idx % log_interval == 0:\n",
    "            print('Train Epoch: {} [{}/{} ({:.0f}%)]\\tLoss: {:.6f}'.format(\n",
    "                epoch, batch_idx * len(data), len(train_loader.dataset),\n",
    "                       100. * batch_idx / len(train_loader), loss.item()))\n"
   ]
  },
  {
   "cell_type": "markdown",
   "metadata": {
    "pycharm": {
     "name": "#%% md\n"
    }
   },
   "source": [
    "Jetzt, da wir das Netzwerk trainiert haben, können wir das Netzwerk testen. Dafür iterieren wir durch das gesamte Netz, und zählen, wie oft unser Netzwerk richtig liegt. Auf Grundlage dessen kannst du jetzt versuchen, das Netzwerk zu optimieren!"
   ]
  },
  {
   "cell_type": "code",
   "execution_count": null,
   "metadata": {
    "collapsed": false,
    "jupyter": {
     "outputs_hidden": false
    },
    "pycharm": {
     "name": "#%%\n"
    }
   },
   "outputs": [],
   "source": [
    "# Wieder ein pytorch interna! ~~~\n",
    "with torch.no_grad():\n",
    "\n",
    "    # Wir zählen die Anzahl der richtigen Treffer und die Anzahl\n",
    "    # der gesamten Daten.\n",
    "    n_correct = 0\n",
    "    n_samples = 0\n",
    "    for data, target in test_loader:\n",
    "\n",
    "        # Brauchen wir, genauso wie oben.\n",
    "        data = data.reshape(-1, 28*28)\n",
    "\n",
    "        # Wenn unser Netz mehrere Werte ausgibt, müssen wir\n",
    "        # das mit der maximalen Warscheinlichkeit aus der Liste auswählen.\n",
    "        # Das machen wir mit torch.max, so wie hier gezeigt.\n",
    "        _, vorhersage = torch.max(..., 1)\n",
    "        n_samples += target.size(0)\n",
    "\n",
    "        # Hiermit zählen wir einfach.\n",
    "        n_correct += (vorhersage == target).sum().item()\n",
    "\n",
    "    # Wie bestimmen wir aus n_correct und n_samples nun die Genauigkeit?\n",
    "    acc = ...\n",
    "    print(f'Accuracy of the network on the 10000 test images: {acc} %')\n"
   ]
  },
  {
   "cell_type": "markdown",
   "metadata": {
    "pycharm": {
     "name": "#%% md\n"
    }
   },
   "source": [
    "Natürlich wäre es auch cool, nochmal eine Zahl zu zeichnen und zu schauen, was für ein Ergebnis rauskommt, oder? Also ob das Netz richtig liegt, oder nicht. Das kannst du mit der folgenden Funktion."
   ]
  },
  {
   "cell_type": "code",
   "execution_count": null,
   "metadata": {
    "collapsed": false,
    "jupyter": {
     "outputs_hidden": false
    },
    "pycharm": {
     "name": "#%%\n"
    }
   },
   "outputs": [],
   "source": [
    "test_single_image(network,5)"
   ]
  },
  {
   "cell_type": "markdown",
   "metadata": {
    "pycharm": {
     "name": "#%% md\n"
    }
   },
   "source": []
  }
 ],
 "metadata": {
  "kernelspec": {
   "display_name": "Python 3 (ipykernel)",
   "language": "python",
   "name": "python3"
  },
  "language_info": {
   "codemirror_mode": {
    "name": "ipython",
    "version": 3
   },
   "file_extension": ".py",
   "mimetype": "text/x-python",
   "name": "python",
   "nbconvert_exporter": "python",
   "pygments_lexer": "ipython3",
   "version": "3.10.4"
  }
 },
 "nbformat": 4,
 "nbformat_minor": 4
}